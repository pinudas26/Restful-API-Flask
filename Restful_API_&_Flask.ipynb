{
  "cells": [
    {
      "cell_type": "markdown",
      "metadata": {
        "id": "BW5TlGFpo8Wb"
      },
      "source": [
        "**Restful API & Flask Assignment Questions & Answers**"
      ]
    },
    {
      "cell_type": "markdown",
      "metadata": {
        "id": "cMZzsyLypDZA"
      },
      "source": [
        "1. What is a RESTful API?\n",
        "   - A REST API (Representational State Transfer API) is a type of API that uses HTTP methods to interact with resources, following principles like statelessness, client-server architecture, and cacheability, allowing applications to communicate and exchange data efficiently.\n",
        "\n",
        "2. Explain the concept of API specification?\n",
        "   - An API specification provides a broad understanding of the functionality of the API and the expected results.\n",
        "   - The specification is largely about the design of the API or your design philosophy.\n",
        "   - API design and functionality are key factors when choosing to integrate an API with an application.\n",
        "\n",
        "3. What is Flask, and why is it popular for building APIs?\n",
        "   - Flask is a popular Python web framework that is widely used to design sophisticated web applications, APIs, and microservices.\n",
        "   - As a result, this framework's simplicity, flexibility, scalability, reliability, and ability to process increased traffic are the key factors behind its popularity among businesses.\n",
        "\n",
        "4. What is routing in Flask?\n",
        "   - Routing in Flask are a fundamental concept in the web framework.\n",
        "   - Routeing can be described as the designated paths or endpoints in a web application that correspond to specific functions.\n",
        "   - These functions are responsible for processing requests and returning the appropriate responses.\n",
        "\n",
        "5. How do you create a simple Flask application?\n",
        "  - To create a simple Flask application, import the Flask class, create an instance of it, define routes using decorators, and then run the app.\n",
        "  - Import Flask:"
      ]
    },
    {
      "cell_type": "code",
      "execution_count": null,
      "metadata": {
        "id": "4WBh_wjYqkQ0"
      },
      "outputs": [],
      "source": [
        "from flask import Flask"
      ]
    },
    {
      "cell_type": "markdown",
      "metadata": {
        "id": "Ka7komm9qo20"
      },
      "source": [
        "  - Create a Flask app instance:"
      ]
    },
    {
      "cell_type": "code",
      "execution_count": null,
      "metadata": {
        "id": "EQWD4syso44k"
      },
      "outputs": [],
      "source": [
        "app = Flask(__name__)"
      ]
    },
    {
      "cell_type": "markdown",
      "metadata": {
        "id": "XAKvgAY8rS6n"
      },
      "source": [
        "  - Define a route:"
      ]
    },
    {
      "cell_type": "code",
      "execution_count": null,
      "metadata": {
        "id": "5CQJSUotrXrq"
      },
      "outputs": [],
      "source": [
        "@app.route(\"/\")\n",
        "def hello_world():\n",
        "    return \"<p>Hello, World!</p>\""
      ]
    },
    {
      "cell_type": "markdown",
      "metadata": {
        "id": "ddYfeTQaroaN"
      },
      "source": [
        "      - The @app.route(\"/\") decorator tells Flask that the hello_world function should handle requests to the root URL (\"/\").\n",
        "      - The function returns the HTML string \"<p>Hello, World!</p>\", which will be displayed in the browser."
      ]
    },
    {
      "cell_type": "markdown",
      "metadata": {
        "id": "1G9xerY-r2Mh"
      },
      "source": [
        "   - Run the application:"
      ]
    },
    {
      "cell_type": "code",
      "execution_count": null,
      "metadata": {
        "colab": {
          "background_save": true,
          "base_uri": "https://localhost:8080/"
        },
        "id": "PAYTB2DNr4wl",
        "outputId": "ca1d0dd0-3e26-46d5-a243-ade8eb233870"
      },
      "outputs": [
        {
          "name": "stdout",
          "output_type": "stream",
          "text": [
            " * Serving Flask app '__main__'\n",
            " * Debug mode: on\n"
          ]
        },
        {
          "name": "stderr",
          "output_type": "stream",
          "text": [
            "INFO:werkzeug:\u001b[31m\u001b[1mWARNING: This is a development server. Do not use it in a production deployment. Use a production WSGI server instead.\u001b[0m\n",
            " * Running on http://127.0.0.1:5000\n",
            "INFO:werkzeug:\u001b[33mPress CTRL+C to quit\u001b[0m\n",
            "INFO:werkzeug: * Restarting with stat\n"
          ]
        }
      ],
      "source": [
        "if __name__ == '__main__':\n",
        "    app.run(debug=True)"
      ]
    },
    {
      "cell_type": "markdown",
      "metadata": {
        "id": "-EGJQVvtr-8u"
      },
      "source": [
        "     - app.run(debug=True) starts the Flask development server.\n",
        "     - debug=True enables debug mode, which provides helpful error messages and automatically reloads the server when you make changes to the code.  \n",
        "  - Complete Example:"
      ]
    },
    {
      "cell_type": "code",
      "execution_count": null,
      "metadata": {
        "id": "q7a9GCdlsNFG"
      },
      "outputs": [],
      "source": [
        "from flask import Flask\n",
        "\n",
        "app = Flask(__name__)\n",
        "\n",
        "@app.route(\"/\")\n",
        "def hello_world():\n",
        "    return \"<p>Hello, World!</p>\"\n",
        "\n",
        "if __name__ == '__main__':\n",
        "    app.run(debug=True)"
      ]
    },
    {
      "cell_type": "markdown",
      "metadata": {
        "id": "qCYcq_J8sUdM"
      },
      "source": [
        "  - To run this application:\n",
        "    - Save the code as a Python file (e.g., app.py).\n",
        "    - Open a terminal or command prompt.\n",
        "    - Navigate to the directory where you saved the file.\n",
        "    - Run the command python app.py.\n",
        "    - Open your web browser and go to http://127.0.0.1:5000/."
      ]
    },
    {
      "cell_type": "markdown",
      "metadata": {
        "id": "ZhmyrQykrva5"
      },
      "source": [
        "6. What are HTTP methods used in RESTful APIs?\n",
        "   - In RESTful APIs, the primary HTTP methods used for interacting with resources are GET (retrieve), POST (create), PUT (update), PATCH (partial update), and DELETE (delete), corresponding to the CRUD (Create, Read, Update, Delete) operations.\n",
        "   - GET: Retrieves a representation of a resource.\n",
        "   - POST: Creates a new resource.\n",
        "   - PUT: Replaces an entire resource with the provided data.\n",
        "   - PATCH: Partially updates a resource.\n",
        "   - DELETE: Deletes a resource.\n",
        "\n",
        "7. What is the purpose of the @app.route() decorator in Flask?\n",
        "   - Flask decorator that you have probably used is the @app. route('/') for defining routes.\n",
        "   - When displaying the output to a browser, this decorator converts a function into a route that can be accessed by the browser without having to explicitly invoke the function in the program.\n",
        "   - Because each view in Flask is a function, decorators can be used to inject additional functionality to one or more functions.\n",
        "   - The route() decorator is the one you probably used already. But there are use cases for implementing your own decorator.\n",
        "\n",
        "8. What is the difference between GET and POST HTTP methods?\n",
        "   - The core difference between GET and POST HTTP methods is their purpose:  \n",
        "     GET requests are used to retrieve data from a server, while POST requests are used to send or submit data to a server, often for creating or updating resources.\n",
        "     - GET:\n",
        "       - Purpose: Retrieves data from a server.\n",
        "       - Data Transmission: Data is included in the URL (as query parameters).\n",
        "       - Side Effects: Should be idempotent (repeated requests should have the same effect as a single request) and should not modify server state.\n",
        "      - Use Cases: Fetching a webpage, searching for information, filtering data.\n",
        "      - Security: Less secure as data is visible in the URL.\n",
        "      - Caching: GET requests are often cached by browsers and servers.\n",
        "    - POST:\n",
        "      - Purpose: Sends data to a server, often for creating or updating resources.\n",
        "      - Data Transmission: Data is included in the request body.\n",
        "      - Side Effects: Can modify server state (e.g., creating a new record, updating an existing one).\n",
        "      - Use Cases: Submitting forms, uploading files, creating new resources.\n",
        "      - Security: More secure as data is not visible in the URL.\n",
        "      - Caching: POST requests are generally not cached.\n",
        "\n",
        "9. How do you handle errors in Flask APIs?\n",
        "   - This can be done by registering error handlers. When Flask catches an exception while handling a request, it is first looked up by code.\n",
        "   - If no handler is registered for the code, Flask looks up the error by its class hierarchy; the most specific handler is chosen.\n",
        "\n",
        "10. How do you connect Flask to a SQL database?\n",
        "    - After configuring SQLAlchemy by setting a database URI and disabling tracking, you create a database object using the SQLAlchemy class, passing the application instance to connect your Flask application with SQLAlchemy. You store your database object in a variable called db.\n",
        "    - To create a connection between the MySQL database and Python, the connect() method of mysql. connector module is used.\n",
        "    - We pass the database details like HostName, username, and the password in the method call, and then the method returns the connection object.\n",
        "\n",
        "11. What is the role of Flask-SQLAlchemy?\n",
        "    - Flask-SQLAlchemy is a Flask extension that simplifies the integration of the SQLAlchemy library, a powerful SQL toolkit and ORM (Object-Relational Mapper), into Flask applications, allowing developers to easily interact with databases using Python objects instead of raw SQL.\n",
        "    - Flask-SQLAlchemy makes it easier to connect Flask applications to databases, define models (data structures), execute queries, and manage database migrations.\n",
        "\n",
        "12. What are Flask blueprints, and how are they useful?\n",
        "    - Flask Blueprints provide a way to organize your application into distinct modules or components.\n",
        "    - Think of them as mini-applications that encapsulate related functionality.\n",
        "    - Each Blueprint can include routes, templates, static files, and even its configuration settings.\n",
        "\n",
        "13. What is the purpose of Flask's request object?\n",
        "    - The Flask Request Object is used to perform both sending and receiving operations from a user's browser to the server and process the request data from the server.\n",
        "    - It should be imported from the flask module.\n",
        "\n",
        "14. How do you create a RESTful API endpoint using Flask?\n",
        "    - Create a directory.\n",
        "    - Download and install Flask (but you can use any other Python web framework if it suits your needs).\n",
        "    - Write Python code to handle the requests sent by the API based on what actions were performed.\n",
        "    - Create endpoint URLs for each action that will be requested and then set up how they're accessed (e.g., GET /user/:id ).\n",
        "    - Start the server process for this to work correctly - which should be included as part of your main program file after everything else has been added or altered from those basic steps above.\n",
        "    - We may also want to add more details about authentication keys here, so users who are accessing this, know how to authenticate themselves properly.\n",
        "\n",
        "15. What is the purpose of Flask's jsonify() function?\n",
        "    - Flask's jsonify() function simplifies returning JSON data from Flask routes by automatically serializing Python objects into JSON format and setting the appropriate Content-Type header to application/json.\n",
        "\n",
        "16. Explain Flask’s url_for() function?\n",
        "    - The url_for() function in Flask is used to generate URLs for a specific function.\n",
        "    - It accepts the name of the function as its first argument, and any number of keyword arguments, each corresponding to a variable part of the URL rule.\n",
        "\n",
        "17. How does Flask handle static files (CSS, JavaScript, etc.)?\n",
        "    - In Flask, static files refer to files such as CSS, JavaScript, images, videos, and audio files that do not change dynamically.\n",
        "    - Flask provides a built-in way to serve these static files using the /static directory.\n",
        "\n",
        "18. What is an API specification, and how does it help in building a Flask API?\n",
        "    - APIFlask is a lightweight Python web API framework based on Flask and marshmallow-code projects.\n",
        "    - It's easy to use, highly customizable, ORM/ODM-agnostic, and 100% compatible with the Flask ecosystem.\n",
        "   \n",
        "19. What are HTTP status codes, and why are they important in a Flask API?\n",
        "    - HTTP status codes are three-digit codes that indicate the outcome of an API request.\n",
        "    - They are included in the API's response to the API client, and they include important information that helps the client know how to proceed.\n",
        "\n",
        "20. How do you handle POST requests in Flask?\n",
        "    - To handle both GET and POST requests, we add that in the decorator app. route() method.\n",
        "    - Whatever request you want, we change it in the decorator.\n",
        "    - Enter the following script in the Python shell.\n",
        "    - Handle POST requests in Flask\n",
        "      -Making a POST request in Python\n",
        "      - Created a new resource we wanted to add to the JSONPlaceholder API.\n",
        "      - Defined the endpoint to POST the new data.\n",
        "      - Sent a POST request using the requests. post() method.\n",
        "      - Used the response.\n",
        "      - The last step is to print the JSON response data.\n",
        "\n",
        "21. How would you secure a Flask API?\n",
        "    - Securing a Python Flask API with JWTs\n",
        "       - Create a Python API.\n",
        "       - Integrate the Security Library.\n",
        "       - Validate JWTs.\n",
        "       - Use Scopes and Claims.\n",
        "       - Test the API.\n",
        "       - Other Library Options.\n",
        "    - To protect your APIs built with Flask, it is essential to address several key security aspects.\n",
        "    - Use HTTPS: Employing HTTPS encrypts data in transit, preventing unauthorized access and mitigating the risk of man-in-the-middle attacks.\n",
        "\n",
        "22. What is the significance of the Flask-RESTful extension?\n",
        "    - Flask-RESTful stands out as a powerful and flexible extension for building RESTful APIs with Python.\n",
        "    - Its resource-oriented design, intuitive request parsing, and seamless integration with Flask make it an excellent choice for developers looking to create efficient and scalable APIs.\n",
        "\n",
        "23. What is the role of Flask’s session object?\n",
        "    - In Flask, a session object is used to track session data.\n",
        "    - The session object is essentially a dictionary entity that contains key-value pairs of session parameters and their associated values.\n",
        "    - This allows the Flask application to maintain state across multiple requests from the same client.\n",
        "\n",
        "\n",
        "\n",
        "\n",
        "**Practical**\n",
        "\n",
        "1. How do you create a basic Flask application?\n"
      ]
    },
    {
      "cell_type": "code",
      "source": [
        "from flask import Flask\n",
        "\n",
        "app = Flask(__name__)\n",
        "\n",
        "@app.route(\"/\")\n",
        "def hello():\n",
        "    return \"Hello, Good Morning!\"\n",
        "\n",
        "if __name__ == \"__main__\":\n",
        "    app.run(debug=True)"
      ],
      "metadata": {
        "colab": {
          "base_uri": "https://localhost:8080/"
        },
        "id": "yAwkIhviYIAZ",
        "outputId": "adea1dd9-49e8-4897-aeb0-4ba4389f72b4"
      },
      "execution_count": null,
      "outputs": [
        {
          "output_type": "stream",
          "name": "stdout",
          "text": [
            " * Serving Flask app '__main__'\n",
            " * Debug mode: on\n"
          ]
        },
        {
          "output_type": "stream",
          "name": "stderr",
          "text": [
            "INFO:werkzeug:\u001b[31m\u001b[1mWARNING: This is a development server. Do not use it in a production deployment. Use a production WSGI server instead.\u001b[0m\n",
            " * Running on http://127.0.0.1:5000\n",
            "INFO:werkzeug:\u001b[33mPress CTRL+C to quit\u001b[0m\n",
            "INFO:werkzeug: * Restarting with stat\n"
          ]
        }
      ]
    },
    {
      "cell_type": "markdown",
      "source": [
        "2. How do you serve static files like images or CSS in Flask?"
      ],
      "metadata": {
        "id": "ZeEeiSmMYNXR"
      }
    },
    {
      "cell_type": "code",
      "source": [
        "<html>\n",
        " <head>\n",
        "   <title>Coding Ninjas</title>\n",
        "   <link rel=\"stylesheet\" href=\"/static/style.css\">\n",
        " </head>\n",
        " <body>\n",
        "   <h1>{{message}}</h1>\n",
        "\n",
        "   <h3>Available Articles</h3>\n",
        "   <ol>\n",
        "     <li>Flask</li>\n",
        "     <li>React</li>\n",
        "     <li>DSA</li>\n",
        "   </ol>\n",
        "\n",
        "   <script src=\"/static/scripts.js\" charset=\"utf-8\"></script>\n",
        " </body>\n",
        "</html>"
      ],
      "metadata": {
        "id": "39cQYnv0YXl7"
      },
      "execution_count": null,
      "outputs": []
    },
    {
      "cell_type": "markdown",
      "source": [
        "3. How do you define different routes with different HTTP methods in Flask?"
      ],
      "metadata": {
        "id": "lgzk3eumYdgz"
      }
    },
    {
      "cell_type": "code",
      "source": [
        "from flask import Flask, request\n",
        "\n",
        "app = Flask(__name__)\n",
        "\n",
        "@app.route(\"/\")\n",
        "def home():\n",
        "    return \"This is the home page\"\n",
        "if _name_ -- \"_main_\":\n",
        "  app.run(debug=True)"
      ],
      "metadata": {
        "id": "sYZ0w8LJYi7b"
      },
      "execution_count": null,
      "outputs": []
    },
    {
      "cell_type": "markdown",
      "source": [
        "4. How do you render HTML templates in Flask?"
      ],
      "metadata": {
        "id": "m7XHiK-Bad0V"
      }
    },
    {
      "cell_type": "code",
      "source": [
        "<!doctype html>\n",
        "<title>{% block title %}{% endblock %} - Flaskr</title>\n",
        "<link rel=\"stylesheet\" href=\"{{ url_for('static', filename='style.css') }}\">\n",
        "<nav>\n",
        "  <h1>Flaskr</h1>\n",
        "  <ul>\n",
        "    {% if g.user %}\n",
        "      <li><span>{{ g.user['username'] }}</span>\n",
        "      <li><a href=\"{{ url_for('auth.logout') }}\">Log Out</a>\n",
        "    {% else %}\n",
        "      <li><a href=\"{{ url_for('auth.register') }}\">Register</a>\n",
        "      <li><a href=\"{{ url_for('auth.login') }}\">Log In</a>\n",
        "    {% endif %}\n",
        "  </ul>\n",
        "</nav>\n",
        "<section class=\"content\">\n",
        "  <header>\n",
        "    {% block header %}{% endblock %}\n",
        "  </header>\n",
        "  {% for message in get_flashed_messages() %}\n",
        "    <div class=\"flash\">{{ message }}</div>\n",
        "  {% endfor %}\n",
        "  {% block content %}{% endblock %}\n",
        "</section>"
      ],
      "metadata": {
        "id": "nOfRSLEKaii5"
      },
      "execution_count": null,
      "outputs": []
    },
    {
      "cell_type": "markdown",
      "source": [
        "5. How can you generate URLs for routes in Flask using url_for?"
      ],
      "metadata": {
        "id": "R2ZelYAHasyB"
      }
    },
    {
      "cell_type": "code",
      "source": [
        "url_for('add', variable=foo)\n",
        "url_for('remove', variable=foo)\n",
        "\n",
        "@app.route('/<variable>/add', methods=['GET', 'POST'])\n",
        "def add(variable):\n",
        "\n",
        "@app.route('/<variable>/remove', methods=['GET', 'POST'])\n",
        "def remove(variable):"
      ],
      "metadata": {
        "id": "NOKZ_he5a4Bs"
      },
      "execution_count": null,
      "outputs": []
    },
    {
      "cell_type": "markdown",
      "source": [
        "6. How do you handle forms in Flask?"
      ],
      "metadata": {
        "id": "US_E1_WdbOgm"
      }
    },
    {
      "cell_type": "code",
      "source": [
        "from flask import Flask, render_template, redirect, url_for\n",
        "from flask_bootstrap import Bootstrap5\n",
        "\n",
        "from flask_wtf import FlaskForm, CSRFProtect\n",
        "from wtforms import StringField, SubmitField\n",
        "from wtforms.validators import DataRequired, Length"
      ],
      "metadata": {
        "id": "CVd3SyPfbVVn"
      },
      "execution_count": null,
      "outputs": []
    },
    {
      "cell_type": "markdown",
      "source": [
        "7. How can you validate form data in Flask?"
      ],
      "metadata": {
        "id": "2tfYnvcIbiJZ"
      }
    },
    {
      "cell_type": "code",
      "source": [
        "from wtforms import Form, BooleanField, StringField, PasswordField, validators\n",
        "\n",
        "class RegistrationForm(Form):\n",
        "    username = StringField('Username', [validators.Length(min=4, max=25)])\n",
        "    email = StringField('Email Address', [validators.Length(min=6, max=35)])\n",
        "    password = PasswordField('New Password', [\n",
        "        validators.DataRequired(),\n",
        "        validators.EqualTo('confirm', message='Passwords must match')\n",
        "    ])\n",
        "    confirm = PasswordField('Repeat Password')\n",
        "    accept_tos = BooleanField('I accept the TOS', [validators.DataRequired()])"
      ],
      "metadata": {
        "id": "kbZ-E6Eub5h2"
      },
      "execution_count": null,
      "outputs": []
    },
    {
      "cell_type": "markdown",
      "source": [
        "8. How do you manage sessions in Flask?"
      ],
      "metadata": {
        "id": "5LSAEMfTb7EX"
      }
    },
    {
      "cell_type": "code",
      "source": [
        "from flask import Flask, render_template_string, request, session, redirect, url_for\n",
        "\n",
        "\n",
        "# Create the Flask application\n",
        "app = Flask(__name__)\n",
        "\n",
        "# Details on the Secret Key: https://flask.palletsprojects.com/en/2.3.x/config/#SECRET_KEY\n",
        "# NOTE: The secret key is used to cryptographically-sign the cookies used for storing\n",
        "#       the session data.\n",
        "app.secret_key = 'BAD_SECRET_KEY'\n",
        "\n",
        "\n",
        "@app.route('/set_email', methods=['GET', 'POST'])\n",
        "def set_email():\n",
        "    if request.method == 'POST':\n",
        "        # Save the form data to the session object\n",
        "        session['email'] = request.form['email_address']\n",
        "        return redirect(url_for('get_email'))\n",
        "\n",
        "    return \"\"\"\n",
        "        <form method=\"post\">\n",
        "            <label for=\"email\">Enter your email address:</label>\n",
        "            <input type=\"email\" id=\"email\" name=\"email_address\" required />\n",
        "            <button type=\"submit\">Submit</button\n",
        "        </form>\n",
        "        \"\"\"\n",
        "\n",
        "\n",
        "@app.route('/get_email')\n",
        "def get_email():\n",
        "    return render_template_string(\"\"\"\n",
        "            {% if session['email'] %}\n",
        "                <h1>Welcome {{ session['email'] }}!</h1>\n",
        "            {% else %}\n",
        "                <h1>Welcome! Please enter your email <a href=\"{{ url_for('set_email') }}\">here.</a></h1>\n",
        "            {% endif %}\n",
        "        \"\"\")\n",
        "\n",
        "\n",
        "@app.route('/delete_email')\n",
        "def delete_email():\n",
        "    # Clear the email stored in the session object\n",
        "    session.pop('email', default=None)\n",
        "    return '<h1>Session deleted!</h1>'\n",
        "\n",
        "\n",
        "if __name__ == '__main__':\n",
        "    app.run()"
      ],
      "metadata": {
        "id": "gj5_p7qDcBvW"
      },
      "execution_count": null,
      "outputs": []
    },
    {
      "cell_type": "markdown",
      "source": [
        "To run this example, start by creating and activating a new virtual environment:\n",
        "\n",
        "$ mkdir flask-session\n",
        "$ cd flask-session\n",
        "$ python3 -m venv venv\n",
        "$ source venv/bin/activate"
      ],
      "metadata": {
        "id": "SlwMuoRCcQ-G"
      }
    },
    {
      "cell_type": "markdown",
      "source": [
        "9. How do you redirect to a different route in Flask?"
      ],
      "metadata": {
        "id": "6DNZgSPqcR9p"
      }
    },
    {
      "cell_type": "code",
      "source": [
        "from flask import Flask, redirect, render_template, request, abort\n",
        "\n",
        "app = Flask(__name__)\n",
        "\n",
        "@app.route('/')\n",
        "def home():\n",
        " return render_template('home.html')\n",
        "\n",
        "@app.route('/login', methods=['GET', 'POST'])\n",
        "def login():\n",
        " if request.method == 'POST':\n",
        "  # Perform login authentication\n",
        "  username = request.form['username']\n",
        "  password = request.form['password']\n",
        "\n",
        "  # Check if the credentials are valid\n",
        "  if username == 'admin' and password == 'password':\n",
        "     # Redirect to the user's dashboard on successful login\n",
        "           return redirect('/dashboard')\n",
        "  else:\n",
        "     # Abort the request with a 401 Unauthorized status code\n",
        "     abort(401)\n",
        "\n",
        "  return render_template('login.html')\n",
        "\n",
        "@app.route('/dashboard')\n",
        "def dashboard():\n",
        " return render_template('dashboard.html')\n",
        "\n",
        "@app.errorhandler(401)\n",
        "def unauthorized_error(error):\n",
        " return render_template('unauthorized.html'), 401\n",
        "\n",
        "if __name__ == '__main__':\n",
        " app.run()"
      ],
      "metadata": {
        "id": "5C_eJGy5cY5z"
      },
      "execution_count": null,
      "outputs": []
    },
    {
      "cell_type": "markdown",
      "source": [
        "10. How do you handle errors in Flask (e.g., 404)?"
      ],
      "metadata": {
        "id": "Dmk6uo2Dcg9K"
      }
    },
    {
      "cell_type": "code",
      "source": [
        "from flask import Flask, render_template\n",
        "app = Flask(__name)\n",
        "@app.errorhandler(404)\n",
        "def page_not_found(e):\n",
        "    return render_template('404.html'), 404"
      ],
      "metadata": {
        "id": "umE57vDmcnUb"
      },
      "execution_count": null,
      "outputs": []
    },
    {
      "cell_type": "markdown",
      "source": [
        "11. How do you structure a Flask app using Blueprints?"
      ],
      "metadata": {
        "id": "ldgrdRxbcyb6"
      }
    },
    {
      "cell_type": "code",
      "source": [
        "from flask import Blueprint\n",
        "\n",
        "bp = Blueprint(\"blueprint\", __name__)\n",
        "\n",
        "@bp.route(\"/\")\n",
        "def home():\n",
        "    return \"<h1>Hello</h1>\"\n",
        "\n",
        "@bp.route(\"/user\")\n",
        "def user_info():\n",
        "    return \"<h1>User Info</h1>\""
      ],
      "metadata": {
        "id": "PQEzoTpbc0e2"
      },
      "execution_count": null,
      "outputs": []
    },
    {
      "cell_type": "markdown",
      "source": [
        "12. How do you define a custom Jinja filter in Flask?"
      ],
      "metadata": {
        "id": "9zW_L9lBc6b6"
      }
    },
    {
      "cell_type": "code",
      "source": [
        "TEMPLATE = \"\"\"\n",
        "{{items|round_to_even}}\n",
        "\"\"\"\n",
        "def main():\n",
        "    template = Template(TEMPLATE, trim_blocks=True, lstrip_blocks=True)\n",
        "    template.environment.filters.update(\n",
        "        {\n",
        "            'round_to_even': lambda x: x if x % 2 == 0 else x+1,\n",
        "        }\n",
        "    )\n",
        "    print(template.render(\n",
        "        items=[1, 2, 3],\n",
        "    ))\n",
        "    return 0\n",
        "\n",
        "\n",
        "if __name__ == '__main__':\n",
        "    main()"
      ],
      "metadata": {
        "id": "3rLZjFM3dPHR"
      },
      "execution_count": null,
      "outputs": []
    },
    {
      "cell_type": "markdown",
      "source": [
        "13. How can you redirect with query parameters in Flask?"
      ],
      "metadata": {
        "id": "ZLcZkG9gdByC"
      }
    },
    {
      "cell_type": "code",
      "source": [
        "from flask import Flask, redirect, render_template, request, abort\n",
        "\n",
        "app = Flask(__name__)\n",
        "\n",
        "@app.route('/')\n",
        "def home():\n",
        " return render_template('home.html')\n",
        "@app.route('/login', methods=['GET', 'POST'])\n",
        "def login():\n",
        " if request.method == 'POST':\n",
        "  # Perform login authentication\n",
        "  username = request.form['username']\n",
        "  password = request.form['password']\n",
        "\n",
        "  # Check if the credentials are valid\n",
        "  if username == 'admin' and password == 'password':\n",
        "     # Redirect to the user's dashboard on successful login\n",
        "           return redirect('/dashboard')\n",
        "  else:\n",
        "     # Abort the request with a 401 Unauthorized status code\n",
        "     abort(401)\n",
        "\n",
        "  return render_template('login.html')\n",
        "\n",
        "@app.route('/dashboard')\n",
        "def dashboard():\n",
        " return render_template('dashboard.html')\n",
        "\n",
        "@app.errorhandler(401)\n",
        "def unauthorized_error(error):\n",
        " return render_template('unauthorized.html'), 401\n",
        "\n",
        "if __name__ == '__main__':\n",
        " app.run()"
      ],
      "metadata": {
        "id": "hHjXQhzldT28"
      },
      "execution_count": null,
      "outputs": []
    },
    {
      "cell_type": "markdown",
      "source": [
        "14. How do you return JSON responses in Flask?"
      ],
      "metadata": {
        "id": "n5eiayeMdFbp"
      }
    },
    {
      "cell_type": "code",
      "source": [
        "from flask import Flask, request\n",
        "\n",
        "app = Flask(__name__)\n",
        "\n",
        "@app.route('/json', methods=['POST'])\n",
        "def json():\n",
        "    # Get the JSON data from the request\n",
        "    data = request.get_json()\n",
        "    # Print the data to the console\n",
        "    print(data)\n",
        "    # Return a success message\n",
        "    return 'JSON received!'"
      ],
      "metadata": {
        "id": "L9X3ZvIrdrw1"
      },
      "execution_count": null,
      "outputs": []
    },
    {
      "cell_type": "markdown",
      "source": [
        "15. How do you capture URL parameters in Flask?"
      ],
      "metadata": {
        "id": "6gXT0XABdJDA"
      }
    },
    {
      "cell_type": "code",
      "source": [
        "from flask import Flask, request\n",
        "appFlask = Flask(__name__)\n",
        "@appFlask.route('/index')\n",
        "def access_param():\n",
        "source = request.args.get('source')\n",
        "return '''<h1>The source value is: {}</h1>'''.format(source)\n",
        "appFlask.run(debug=True, port=5000)"
      ],
      "metadata": {
        "id": "qfxvwjn1eGDF"
      },
      "execution_count": null,
      "outputs": []
    }
  ],
  "metadata": {
    "colab": {
      "provenance": []
    },
    "kernelspec": {
      "display_name": "Python 3",
      "name": "python3"
    },
    "language_info": {
      "name": "python"
    }
  },
  "nbformat": 4,
  "nbformat_minor": 0
}